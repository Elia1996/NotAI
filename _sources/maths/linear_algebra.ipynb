{
 "cells": [
  {
   "cell_type": "markdown",
   "metadata": {},
   "source": [
    "# Linear albegra for AI\n",
    "There are many vectors definitions but here we will focus on $\\mathbb{R}^n$ (tuple of n real number), this is an example:\n",
    "$$\n",
    "\\textbf{a} = \\begin{bmatrix}1\\cr2\\cr3\\cr4\\end{bmatrix} \\in \\mathbb{R}^4\n",
    "$$\n",
    "\n",
    "This means that the vector $\\textbf{a}$ composed by four real number belongs to $\\mathbb{R}^4$.\n",
    "\n",
    "## Liner Equation\n",
    "Linear equation came from real world problem:\n",
    "> A company has to produce $N_1 ... N_n$ products, each product needs the resources $R_1 ... R_m$.\n",
    ">\n",
    "> Each resources is limited to $b_j$ so $R_1 ... R_m$ resources are limited to $b_1 ... b_m$ units.\n",
    ">\n",
    "> Find the optimized number of products $x_1 ... x_n$ which can be produced having maximum $b_1 ... b_m$ resources.\n",
    ">\n",
    "> Use $a_{ij}$ as the number of resource $R_j$ used by the product $N_i$.\n",
    "\n",
    "This problem can be approched finding the number of the same resource $b_1$ used by the $N_1 ... N_n$  products:\n",
    "\n",
    "$$\n",
    "x_1 a_{11} + x_2 a_{21} + ... + x_n a_{n1}  = b_1\\ (Number\\ of\\ available\\ R_1\\ resources)\\\\\n",
    "x_1 a_{12} + x_2 a_{22} + ... + x_n a_{n2}  = b_2\\\\\n",
    "...\\\\\n",
    "x_1 a_{1m} + x_2 a_{2m} + ... + x_n a_{nm}  = b_m\n",
    "$$\n",
    "\n",
    "We can group the $x_1 ... x_n$ and write the above equations as:\n",
    "\n",
    "$$\n",
    "\\begin{bmatrix}a_{11}  \\cr a_{12}  \\cr ...  \\cr a_{1m} \\end{bmatrix} x_1 + \\begin{bmatrix}a_{21}  \\cr a_{22}  \\cr ...  \\cr a_{2m} \\end{bmatrix} x_2 + ... + \\begin{bmatrix}a_{n1}  \\cr a_{n2}  \\cr ...  \\cr a_{nm} \\end{bmatrix} x_n = \\begin{bmatrix}b_1  \\cr b_2  \\cr ...  \\cr b_m \\end{bmatrix}\n",
    "$$\n",
    "\n",
    "Grouping also the $a_{ij}$ in a matrix and the $x_i$ in a vector we have:\n",
    "\n",
    "$$\n",
    "\\begin{bmatrix}a_{11} & a_{21} & ... & a_{n1}\\cr a_{12} & a_{22} & ... & a_{n2}\\cr ... & ... & ... & ...\\cr a_{1m} & a_{2m} & ... & a_{nm}\\end{bmatrix} \\begin{bmatrix}x_1\\cr x_2\\cr ...\\cr x_n\\end{bmatrix} = \\begin{bmatrix}b_1\\cr b_2\\cr ...\\cr b_m\\end{bmatrix}\n",
    "$$\n"
   ]
  },
  {
   "cell_type": "markdown",
   "metadata": {},
   "source": [
    "### Matrices property\n",
    "In the above equation we have used the matrix notation, here we will see some properties of matrices.\n",
    "\n",
    "#### General properties\n",
    "1. $\\textbf{A} \\in \\mathbb{R}^{row\\ num\\ \\times\\ col\\ num}$ is the general form of a matrix, the exponent define the dimension so $A \\in \\mathbb{R}^{m \\times n}$ is composed by $m$ rows and $n$ columns.\n",
    "2. $\\textbf{A} \\in \\mathbb{R}^{m \\times n}$ can be equivalently written as $\\textbf{a} \\in \\mathbb{R}^{mn}$, this is called the vectorization of the matrix and it is done by stacking the columns of the matrix.\n",
    "\n",
    "#### Operations\n",
    "\n",
    "##### Sum is commutative\n",
    "$\\textbf{A} + \\textbf{B} = \\textbf{B} + \\textbf{A}$, the sum of two matrices is commutative. \n"
   ]
  },
  {
   "cell_type": "code",
   "execution_count": 1,
   "metadata": {
    "tags": [
     "hide-input"
    ]
   },
   "outputs": [
    {
     "data": {
      "text/latex": [
       "$\\displaystyle \\begin{bmatrix}\n",
       " 1 & 2\\\\\n",
       " 3 & 1\\\\\n",
       "\\end{bmatrix}+\\begin{bmatrix}\n",
       " 3 & 0\\\\\n",
       " -1 & 2\\\\\n",
       "\\end{bmatrix}=\\begin{bmatrix}\n",
       " 4 & 2\\\\\n",
       " 2 & 3\\\\\n",
       "\\end{bmatrix}$"
      ],
      "text/plain": [
       "<IPython.core.display.Math object>"
      ]
     },
     "metadata": {},
     "output_type": "display_data"
    }
   ],
   "source": [
    "import numpy as np\n",
    "from notai.utils import printalg\n",
    "\n",
    "A = np.array([[1, 2], [3, 1]])\n",
    "B = np.array([[3, 0], [-1, 2]])\n",
    "printalg(A, \"+\", B, \"=\", A + B)"
   ]
  },
  {
   "cell_type": "markdown",
   "metadata": {},
   "source": [
    "The same result is obtained by changing the order of the matrices."
   ]
  },
  {
   "cell_type": "code",
   "execution_count": 2,
   "metadata": {
    "tags": [
     "hide-input"
    ]
   },
   "outputs": [
    {
     "data": {
      "text/latex": [
       "$\\displaystyle \\begin{bmatrix}\n",
       " 3 & 0\\\\\n",
       " -1 & 2\\\\\n",
       "\\end{bmatrix}+\\begin{bmatrix}\n",
       " 1 & 2\\\\\n",
       " 3 & 1\\\\\n",
       "\\end{bmatrix}=\\begin{bmatrix}\n",
       " 4 & 2\\\\\n",
       " 2 & 3\\\\\n",
       "\\end{bmatrix}$"
      ],
      "text/plain": [
       "<IPython.core.display.Math object>"
      ]
     },
     "metadata": {},
     "output_type": "display_data"
    }
   ],
   "source": [
    "printalg(B, \"+\", A, \"=\", B + A)"
   ]
  },
  {
   "cell_type": "markdown",
   "metadata": {},
   "source": [
    "2. $A \\cdot \\textbf{B} \\neq \\textbf{B} \\cdot \\textbf{A}$, the product of two matrices is not commutative, indeed:"
   ]
  },
  {
   "cell_type": "code",
   "execution_count": 3,
   "metadata": {
    "tags": [
     "hide-input"
    ]
   },
   "outputs": [
    {
     "data": {
      "text/latex": [
       "$\\displaystyle \\begin{bmatrix}\n",
       " 1 & 2\\\\\n",
       " 3 & 1\\\\\n",
       "\\end{bmatrix}\\cdot\\begin{bmatrix}\n",
       " 3 & 0\\\\\n",
       " -1 & 2\\\\\n",
       "\\end{bmatrix}=\\begin{bmatrix}\n",
       " 1 & 4\\\\\n",
       " 8 & 2\\\\\n",
       "\\end{bmatrix}$"
      ],
      "text/plain": [
       "<IPython.core.display.Math object>"
      ]
     },
     "metadata": {},
     "output_type": "display_data"
    }
   ],
   "source": [
    "printalg(A, r\"\\cdot\", B, \"=\", A @ B)"
   ]
  },
  {
   "cell_type": "code",
   "execution_count": 4,
   "metadata": {
    "tags": [
     "hide-input"
    ]
   },
   "outputs": [
    {
     "data": {
      "text/latex": [
       "$\\displaystyle \\begin{bmatrix}\n",
       " 3 & 0\\\\\n",
       " -1 & 2\\\\\n",
       "\\end{bmatrix}\\cdot\\begin{bmatrix}\n",
       " 1 & 2\\\\\n",
       " 3 & 1\\\\\n",
       "\\end{bmatrix}=\\begin{bmatrix}\n",
       " 3 & 6\\\\\n",
       " 5 & 0\\\\\n",
       "\\end{bmatrix}$"
      ],
      "text/plain": [
       "<IPython.core.display.Math object>"
      ]
     },
     "metadata": {},
     "output_type": "display_data"
    }
   ],
   "source": [
    "printalg(B, r\"\\cdot\", A, \"=\", B @ A)"
   ]
  },
  {
   "cell_type": "markdown",
   "metadata": {},
   "source": [
    "##### Product dimension\n",
    "The product of a matrix $\\textbf{A} \\in \\mathbb{R}^{m \\times n}$ with another matrix $\\textbf{B} \\in \\mathbb{R}^{n \\times p}$ is a matrix $\\textbf{C} \\in \\mathbb{R}^{m \\times p}$. As you can see the result matrix has the number of rows of the first matrix and the number of columns of the second matrix.\n",
    "\n",
    "$$\\underbrace{\\textbf{A}}_{\\textbf{m} \\times n} \\cdot \\underbrace{\\textbf{B}}_{n \\times \\textbf{p}} = \\underbrace{\\textbf{C}}_{\\textbf{m} \\times \\textbf{p}}$$\n",
    "\n",
    "Only \"neighboring\" matrices can be multiplied, so $\\textbf{A} \\in \\mathbb{R}^{m \\times n}$ can be multiplied by $\\textbf{B} \\in \\mathbb{R}^{n \\times p}$ but not by $\\textbf{C} \\in \\mathbb{R}^{p \\times q}$.\n",
    "\n",
    "##### Element-wise multiplication\n",
    "Matrix multiplication is not a element-wise multiplication, this means that product can be written as $c_{ij} = \\sum_{k=1}^{n} a_{ik} b_{kj}$ but not as $c_{ij} = a_{ij} b_{ij}$.\n",
    "\n",
    "#### Mixed properties:\n",
    "\n",
    "##### Associative property\n",
    "$(A \\cdot B) \\cdot C = A \\cdot (B \\cdot C)\\ \\ \\ \\  \\forall A \\in \\mathbb{R}^{m \\times n}, B \\in \\mathbb{R}^{n \\times p}, C \\in \\mathbb{R}^{p \\times q}$"
   ]
  },
  {
   "cell_type": "code",
   "execution_count": 5,
   "metadata": {
    "tags": [
     "hide-input"
    ]
   },
   "outputs": [
    {
     "data": {
      "text/latex": [
       "$\\displaystyle \\left(\\begin{bmatrix}\n",
       " 1 & 2\\\\\n",
       " 3 & 1\\\\\n",
       "\\end{bmatrix}\\cdot\\begin{bmatrix}\n",
       " 3 & 0\\\\\n",
       " -1 & 2\\\\\n",
       "\\end{bmatrix}\\right)\\,\\cdot\\,\\begin{bmatrix}\n",
       " 1 & 2\\\\\n",
       " 3 & 0\\\\\n",
       "\\end{bmatrix}=\\begin{bmatrix}\n",
       " 13 & 2\\\\\n",
       " 14 & 16\\\\\n",
       "\\end{bmatrix}$"
      ],
      "text/plain": [
       "<IPython.core.display.Math object>"
      ]
     },
     "metadata": {},
     "output_type": "display_data"
    },
    {
     "data": {
      "text/latex": [
       "$\\displaystyle \\begin{bmatrix}\n",
       " 1 & 2\\\\\n",
       " 3 & 1\\\\\n",
       "\\end{bmatrix}\\cdot\\left(\\begin{bmatrix}\n",
       " 3 & 0\\\\\n",
       " -1 & 2\\\\\n",
       "\\end{bmatrix}\\cdot\\begin{bmatrix}\n",
       " 1 & 2\\\\\n",
       " 3 & 0\\\\\n",
       "\\end{bmatrix}\\right)=\\begin{bmatrix}\n",
       " 13 & 2\\\\\n",
       " 14 & 16\\\\\n",
       "\\end{bmatrix}$"
      ],
      "text/plain": [
       "<IPython.core.display.Math object>"
      ]
     },
     "metadata": {},
     "output_type": "display_data"
    }
   ],
   "source": [
    "C = np.array([[1, 2], [3, 0]])\n",
    "\n",
    "printalg(\"(\",A, \"@\", B, \") @ \", C, \"=\", (A @ B) @ C)\n",
    "printalg(A, \"@\", \"(\", B, \"@\", C, \")\", \"=\", A @ (B @ C))"
   ]
  },
  {
   "cell_type": "markdown",
   "metadata": {
    "tags": [
     "hide-input"
    ]
   },
   "source": [
    "##### Distributive property\n",
    "$A \\cdot (B + C) = A \\cdot B + A \\cdot C\\quad\\forall A \\in \\mathbb{R}^{m \\times n}, B \\in \\mathbb{R}^{n \\times p}, C \\in \\mathbb{R}^{n \\times p}$"
   ]
  },
  {
   "cell_type": "code",
   "execution_count": 6,
   "metadata": {
    "tags": [
     "hide-input"
    ]
   },
   "outputs": [
    {
     "data": {
      "text/latex": [
       "$\\displaystyle \\begin{bmatrix}\n",
       " 1 & 2\\\\\n",
       " 3 & 1\\\\\n",
       "\\end{bmatrix}\\cdot\\,\\left[\\begin{bmatrix}\n",
       " 3 & 0\\\\\n",
       " -1 & 2\\\\\n",
       "\\end{bmatrix}+\\begin{bmatrix}\n",
       " 1 & 2\\\\\n",
       " 3 & 0\\\\\n",
       "\\end{bmatrix}\\,\\right]\\,=\\begin{bmatrix}\n",
       " 8 & 6\\\\\n",
       " 14 & 8\\\\\n",
       "\\end{bmatrix}$"
      ],
      "text/plain": [
       "<IPython.core.display.Math object>"
      ]
     },
     "metadata": {},
     "output_type": "display_data"
    },
    {
     "data": {
      "text/latex": [
       "$\\displaystyle \\begin{bmatrix}\n",
       " 1 & 2\\\\\n",
       " 3 & 1\\\\\n",
       "\\end{bmatrix}\\cdot\\begin{bmatrix}\n",
       " 3 & 0\\\\\n",
       " -1 & 2\\\\\n",
       "\\end{bmatrix}\\,+\\begin{bmatrix}\n",
       " 1 & 2\\\\\n",
       " 3 & 1\\\\\n",
       "\\end{bmatrix}\\cdot\\begin{bmatrix}\n",
       " 1 & 2\\\\\n",
       " 3 & 0\\\\\n",
       "\\end{bmatrix}=\\begin{bmatrix}\n",
       " 8 & 6\\\\\n",
       " 14 & 8\\\\\n",
       "\\end{bmatrix}$"
      ],
      "text/plain": [
       "<IPython.core.display.Math object>"
      ]
     },
     "metadata": {},
     "output_type": "display_data"
    }
   ],
   "source": [
    "printalg(A, \"@ [\", B, \"+\", C, \" ] =\", A @ (B + C))\n",
    "printalg(A, \"@\", B, \" +\", A, \"@\", C, \"=\", A @ B + A @ C)"
   ]
  },
  {
   "cell_type": "markdown",
   "metadata": {},
   "source": [
    "\n",
    "#### Identity matrix:\n",
    "1. The identity matrix $\\textbf{I}$ is a square matrix with ones in the diagonal and zeros elsewhere.\n",
    "2. The identity matrix is the neutral element of the matrix multiplication, so $\\textbf{A} \\cdot \\textbf{I} = \\textbf{A}$.\n",
    "3. The identity matrix is the neutral element of the matrix sum, so $\\textbf{A} + \\textbf{I} = \\textbf{A}$.\n",
    "\n",
    "#### Inverse matrix:\n",
    "The inverse of a matrix $\\textbf{A}$ is denoted as $\\textbf{A}^{-1}$ and it is defined as the matrix that multiplied by $\\textbf{A}$ gives the identity matrix $\\textbf{I}$.\n"
   ]
  },
  {
   "cell_type": "code",
   "execution_count": 7,
   "metadata": {
    "tags": [
     "hide-input"
    ]
   },
   "outputs": [
    {
     "data": {
      "text/latex": [
       "$\\displaystyle \\begin{bmatrix}\n",
       " 1 & 2\\\\\n",
       " 3 & 1\\\\\n",
       "\\end{bmatrix}^{-1}\\,=\\,\\begin{bmatrix}\n",
       "\\frac{-1}{5} &\\frac{2}{5}\\\\[6pt]\n",
       "\\frac{3}{5} &\\frac{-1}{5}\\\\[6pt]\n",
       "\\end{bmatrix}$"
      ],
      "text/plain": [
       "<IPython.core.display.Math object>"
      ]
     },
     "metadata": {},
     "output_type": "display_data"
    }
   ],
   "source": [
    "Ainv = np.matrix(A).I  # Inverse of A\n",
    "printalg(A, r\"^{-1} = \", Ainv)"
   ]
  },
  {
   "cell_type": "markdown",
   "metadata": {},
   "source": [
    "- The product for the inverse matrix is commutative, so $\\textbf{A} \\cdot \\textbf{A}^{-1} = \\textbf{A}^{-1} \\cdot \\textbf{A} = \\textbf{I}$."
   ]
  },
  {
   "cell_type": "code",
   "execution_count": 8,
   "metadata": {
    "tags": [
     "hide-input"
    ]
   },
   "outputs": [
    {
     "data": {
      "text/latex": [
       "$\\displaystyle \\begin{bmatrix}\n",
       " 1 & 2\\\\\n",
       " 3 & 1\\\\\n",
       "\\end{bmatrix}\\cdot\\begin{bmatrix}\n",
       "\\frac{-1}{5} &\\frac{2}{5}\\\\[6pt]\n",
       "\\frac{3}{5} &\\frac{-1}{5}\\\\[6pt]\n",
       "\\end{bmatrix}=\\begin{bmatrix}\n",
       "\\frac{-1}{5} &\\frac{2}{5}\\\\[6pt]\n",
       "\\frac{3}{5} &\\frac{-1}{5}\\\\[6pt]\n",
       "\\end{bmatrix}\\cdot\\begin{bmatrix}\n",
       " 1 & 2\\\\\n",
       " 3 & 1\\\\\n",
       "\\end{bmatrix}=\\begin{bmatrix}\n",
       "\\frac{1}{1} &0\\\\[6pt]\n",
       "\\frac{0}{1} &\\frac{1}{1}\\\\[6pt]\n",
       "\\end{bmatrix}$"
      ],
      "text/plain": [
       "<IPython.core.display.Math object>"
      ]
     },
     "metadata": {},
     "output_type": "display_data"
    }
   ],
   "source": [
    "printalg(A, \"@\", Ainv, \"=\", Ainv, \"@\", A, \"=\", Ainv @ A)"
   ]
  },
  {
   "cell_type": "markdown",
   "metadata": {},
   "source": [
    "- The **inverse of the product of two matrices** is the **product of the inverses** of the matrices in the reverse order, so $(\\textbf{A} \\cdot \\textbf{B})^{-1} = \\textbf{B}^{-1} \\cdot \\textbf{A}^{-1}$, this is not valid for sum."
   ]
  },
  {
   "cell_type": "code",
   "execution_count": 9,
   "metadata": {
    "tags": [
     "hide-input"
    ]
   },
   "outputs": [
    {
     "data": {
      "text/latex": [
       "$\\displaystyle \\left[\\begin{bmatrix}\n",
       " 1 & 2\\\\\n",
       " 3 & 1\\\\\n",
       "\\end{bmatrix}\\cdot\\begin{bmatrix}\n",
       " 3 & 0\\\\\n",
       " -1 & 2\\\\\n",
       "\\end{bmatrix}\\right]^{-1}\\,=\\,\\begin{bmatrix}\n",
       "\\frac{-1}{15} &\\frac{2}{15}\\\\[6pt]\n",
       "\\frac{4}{15} &\\frac{-1}{30}\\\\[6pt]\n",
       "\\end{bmatrix}\\,\\,\\,\\,\\,\\,\\,\\,\\,\\,\\begin{bmatrix}\n",
       " 3 & 0\\\\\n",
       " -1 & 2\\\\\n",
       "\\end{bmatrix}^{-1}\\,\\cdot\\begin{bmatrix}\n",
       " 1 & 2\\\\\n",
       " 3 & 1\\\\\n",
       "\\end{bmatrix}^{-1}\\,=\\,\\begin{bmatrix}\n",
       "\\frac{-1}{15} &\\frac{2}{15}\\\\[6pt]\n",
       "\\frac{4}{15} &\\frac{-1}{30}\\\\[6pt]\n",
       "\\end{bmatrix}$"
      ],
      "text/plain": [
       "<IPython.core.display.Math object>"
      ]
     },
     "metadata": {},
     "output_type": "display_data"
    },
    {
     "data": {
      "text/latex": [
       "$\\displaystyle \\left[\\begin{bmatrix}\n",
       " 1 & 2\\\\\n",
       " 3 & 1\\\\\n",
       "\\end{bmatrix}\\cdot\\begin{bmatrix}\n",
       " 3 & 0\\\\\n",
       " -1 & 2\\\\\n",
       "\\end{bmatrix}\\right]^{-1}\\,=\\,\\begin{bmatrix}\n",
       " 3 & 0\\\\\n",
       " -1 & 2\\\\\n",
       "\\end{bmatrix}^{-1}\\,\\cdot\\begin{bmatrix}\n",
       " 1 & 2\\\\\n",
       " 3 & 1\\\\\n",
       "\\end{bmatrix}^{-1}$"
      ],
      "text/plain": [
       "<IPython.core.display.Math object>"
      ]
     },
     "metadata": {},
     "output_type": "display_data"
    }
   ],
   "source": [
    "D = A @ B\n",
    "printalg(\"[\", A, \"@\", B, \"]^{-1} = \", np.matrix(A @ B).I, \" \"*10,\n",
    "          B, r\"^{-1} @\", A, r\"^{-1} = \", np.matrix(B).I @ np.matrix(A).I)\n",
    "printalg(\"[\", A, \"@\", B, \"]^{-1} = \", B, r\"^{-1} @\", A, r\"^{-1}\")"
   ]
  },
  {
   "cell_type": "markdown",
   "metadata": {},
   "source": [
    "#### Transpose matrix:\n",
    "The transpose of a matrix $\\textbf{A}$ is denoted as $\\textbf{A}^T$ and it is defined as the matrix that has the rows of $\\textbf{A}$ as columns."
   ]
  },
  {
   "cell_type": "code",
   "execution_count": 10,
   "metadata": {
    "tags": [
     "hide-input"
    ]
   },
   "outputs": [
    {
     "data": {
      "text/latex": [
       "$\\displaystyle \\begin{bmatrix}\n",
       " 1 & 2\\\\\n",
       " 3 & 1\\\\\n",
       "\\end{bmatrix}^T\\,=\\,\\begin{bmatrix}\n",
       " 1 & 3\\\\\n",
       " 2 & 1\\\\\n",
       "\\end{bmatrix}$"
      ],
      "text/plain": [
       "<IPython.core.display.Math object>"
      ]
     },
     "metadata": {},
     "output_type": "display_data"
    }
   ],
   "source": [
    "printalg(A, \"^T = \", A.T)"
   ]
  },
  {
   "cell_type": "markdown",
   "metadata": {},
   "source": [
    "- The transpose of a product is the **product of the transposes in reverse order**, so $(\\textbf{A} \\cdot \\textbf{B})^T = \\textbf{B}^T \\cdot \\textbf{A}^T$."
   ]
  },
  {
   "cell_type": "code",
   "execution_count": 11,
   "metadata": {
    "tags": [
     "hide-input"
    ]
   },
   "outputs": [
    {
     "data": {
      "text/latex": [
       "$\\displaystyle \\left[\\begin{bmatrix}\n",
       " 1 & 2\\\\\n",
       " 3 & 1\\\\\n",
       "\\end{bmatrix}\\cdot\\begin{bmatrix}\n",
       " 3 & 0\\\\\n",
       " -1 & 2\\\\\n",
       "\\end{bmatrix}\\right]^T\\,=\\,\\begin{bmatrix}\n",
       " 1 & 4\\\\\n",
       " 8 & 2\\\\\n",
       "\\end{bmatrix}^T\\,=\\,\\begin{bmatrix}\n",
       " 1 & 8\\\\\n",
       " 4 & 2\\\\\n",
       "\\end{bmatrix}$"
      ],
      "text/plain": [
       "<IPython.core.display.Math object>"
      ]
     },
     "metadata": {},
     "output_type": "display_data"
    },
    {
     "data": {
      "text/latex": [
       "$\\displaystyle \\begin{bmatrix}\n",
       " 3 & 0\\\\\n",
       " -1 & 2\\\\\n",
       "\\end{bmatrix}^T\\,\\cdot\\begin{bmatrix}\n",
       " 1 & 2\\\\\n",
       " 3 & 1\\\\\n",
       "\\end{bmatrix}^T\\,=\\,\\begin{bmatrix}\n",
       " 3 & -1\\\\\n",
       " 0 & 2\\\\\n",
       "\\end{bmatrix}\\cdot\\begin{bmatrix}\n",
       " 1 & 3\\\\\n",
       " 2 & 1\\\\\n",
       "\\end{bmatrix}\\,=\\,\\begin{bmatrix}\n",
       " 1 & 8\\\\\n",
       " 4 & 2\\\\\n",
       "\\end{bmatrix}$"
      ],
      "text/plain": [
       "<IPython.core.display.Math object>"
      ]
     },
     "metadata": {},
     "output_type": "display_data"
    }
   ],
   "source": [
    "printalg(\"[\", A, \"@\", B, \"]^T = \", A @ B, \"^T = \", (A @ B).T)\n",
    "printalg(B, \"^T @\", A, \"^T = \", B.T, \"@\", A.T, \" = \", B.T @ A.T)"
   ]
  },
  {
   "cell_type": "markdown",
   "metadata": {},
   "source": [
    "- The transpose of a sum is the **sum of the transposes**, so $(\\textbf{A} + \\textbf{B})^T = \\textbf{A}^T + \\textbf{B}^T$."
   ]
  },
  {
   "cell_type": "code",
   "execution_count": 12,
   "metadata": {
    "tags": [
     "hide-input"
    ]
   },
   "outputs": [
    {
     "data": {
      "text/latex": [
       "$\\displaystyle \\left[\\begin{bmatrix}\n",
       " 1 & 2\\\\\n",
       " 3 & 1\\\\\n",
       "\\end{bmatrix}+\\begin{bmatrix}\n",
       " 3 & 0\\\\\n",
       " -1 & 2\\\\\n",
       "\\end{bmatrix}\\right]^T\\,=\\,\\begin{bmatrix}\n",
       " 4 & 2\\\\\n",
       " 2 & 3\\\\\n",
       "\\end{bmatrix}^T\\,=\\,\\begin{bmatrix}\n",
       " 4 & 2\\\\\n",
       " 2 & 3\\\\\n",
       "\\end{bmatrix}$"
      ],
      "text/plain": [
       "<IPython.core.display.Math object>"
      ]
     },
     "metadata": {},
     "output_type": "display_data"
    },
    {
     "data": {
      "text/latex": [
       "$\\displaystyle \\begin{bmatrix}\n",
       " 1 & 2\\\\\n",
       " 3 & 1\\\\\n",
       "\\end{bmatrix}^T\\,+\\begin{bmatrix}\n",
       " 3 & 0\\\\\n",
       " -1 & 2\\\\\n",
       "\\end{bmatrix}^T\\,=\\,\\begin{bmatrix}\n",
       " 1 & 3\\\\\n",
       " 2 & 1\\\\\n",
       "\\end{bmatrix}+\\begin{bmatrix}\n",
       " 3 & -1\\\\\n",
       " 0 & 2\\\\\n",
       "\\end{bmatrix}\\,=\\,\\begin{bmatrix}\n",
       " 4 & 2\\\\\n",
       " 2 & 3\\\\\n",
       "\\end{bmatrix}$"
      ],
      "text/plain": [
       "<IPython.core.display.Math object>"
      ]
     },
     "metadata": {},
     "output_type": "display_data"
    }
   ],
   "source": [
    "printalg(\"[\", A, \"+\", B, \"]^T = \", A + B, \"^T = \", (A + B).T)\n",
    "printalg(A, \"^T +\", B, \"^T = \", A.T, \"+\", B.T, \" = \", A.T + B.T)"
   ]
  },
  {
   "cell_type": "markdown",
   "metadata": {},
   "source": [
    "#### Symmetric matrix:\n",
    "A matrix is symmetric if it is equal to its transpose, so $\\textbf{A} = \\textbf{A}^T$."
   ]
  },
  {
   "cell_type": "code",
   "execution_count": 13,
   "metadata": {
    "tags": [
     "hide-input"
    ]
   },
   "outputs": [
    {
     "data": {
      "text/latex": [
       "$\\displaystyle \\begin{bmatrix}\n",
       " 1 & 2 & 3\\\\\n",
       " 2 & 3 & 4\\\\\n",
       " 3 & 4 & 5\\\\\n",
       "\\end{bmatrix}^T\\,=\\,\\begin{bmatrix}\n",
       " 1 & 2 & 3\\\\\n",
       " 2 & 3 & 4\\\\\n",
       " 3 & 4 & 5\\\\\n",
       "\\end{bmatrix}$"
      ],
      "text/plain": [
       "<IPython.core.display.Math object>"
      ]
     },
     "metadata": {},
     "output_type": "display_data"
    }
   ],
   "source": [
    "S = np.array([[1, 2, 3], [2, 3, 4], [3, 4, 5]])\n",
    "printalg(S, \"^T = \", S.T)"
   ]
  },
  {
   "cell_type": "markdown",
   "metadata": {},
   "source": [
    "Symmetric matrices have some interesting properties:\n",
    "1. The sum of two symmetric matrices is symmetric."
   ]
  },
  {
   "cell_type": "code",
   "execution_count": 14,
   "metadata": {
    "tags": [
     "hide-input"
    ]
   },
   "outputs": [
    {
     "data": {
      "text/latex": [
       "$\\displaystyle \\begin{bmatrix}\n",
       " 1 & 2 & 3\\\\\n",
       " 2 & 3 & 4\\\\\n",
       " 3 & 4 & 5\\\\\n",
       "\\end{bmatrix}+\\begin{bmatrix}\n",
       " 2 & -1 & 0\\\\\n",
       " -1 & 2 & -1\\\\\n",
       " 0 & -1 & 2\\\\\n",
       "\\end{bmatrix}=\\begin{bmatrix}\n",
       " 3 & 1 & 3\\\\\n",
       " 1 & 5 & 3\\\\\n",
       " 3 & 3 & 7\\\\\n",
       "\\end{bmatrix}$"
      ],
      "text/plain": [
       "<IPython.core.display.Math object>"
      ]
     },
     "metadata": {},
     "output_type": "display_data"
    }
   ],
   "source": [
    "S2 = np.array([[2, -1, 0], [-1, 2, -1], [0, -1, 2]])\n",
    "printalg(S, \"+\", S2, \"=\", S + S2)"
   ]
  },
  {
   "cell_type": "markdown",
   "metadata": {},
   "source": [
    "3. If A is invertible, then $(\\textbf{S}^{-1})^T = (\\textbf{S}^T)^{-1}$."
   ]
  },
  {
   "cell_type": "code",
   "execution_count": 17,
   "metadata": {
    "tags": [
     "hide-input"
    ]
   },
   "outputs": [
    {
     "data": {
      "text/latex": [
       "$\\displaystyle \\left[\\,\\begin{bmatrix}\n",
       " 2 & -1 & 0\\\\\n",
       " -1 & 2 & -1\\\\\n",
       " 0 & -1 & 2\\\\\n",
       "\\end{bmatrix}^{-1}\\,\\right]^T\\,=\\,\\begin{bmatrix}\n",
       "\\frac{3}{4} &\\frac{1}{2} &\\frac{1}{4}\\\\[6pt]\n",
       "\\frac{1}{2} &\\frac{1}{1} &\\frac{1}{2}\\\\[6pt]\n",
       "\\frac{1}{4} &\\frac{1}{2} &\\frac{3}{4}\\\\[6pt]\n",
       "\\end{bmatrix}^T\\,=\\,\\begin{bmatrix}\n",
       "\\frac{3}{4} &\\frac{1}{2} &\\frac{1}{4}\\\\[6pt]\n",
       "\\frac{1}{2} &\\frac{1}{1} &\\frac{1}{2}\\\\[6pt]\n",
       "\\frac{1}{4} &\\frac{1}{2} &\\frac{3}{4}\\\\[6pt]\n",
       "\\end{bmatrix}$"
      ],
      "text/plain": [
       "<IPython.core.display.Math object>"
      ]
     },
     "metadata": {},
     "output_type": "display_data"
    }
   ],
   "source": [
    "printalg(\"[ \", S2, \"^{-1} ]^T = \", np.matrix(S2).I, \"^T = \", np.matrix(S2).I.T)"
   ]
  },
  {
   "cell_type": "code",
   "execution_count": 18,
   "metadata": {
    "tags": [
     "hide-input"
    ]
   },
   "outputs": [
    {
     "data": {
      "text/latex": [
       "$\\displaystyle \\left[\\,\\begin{bmatrix}\n",
       " 2 & -1 & 0\\\\\n",
       " -1 & 2 & -1\\\\\n",
       " 0 & -1 & 2\\\\\n",
       "\\end{bmatrix}^T\\,\\right]^{-1}\\,=\\,\\begin{bmatrix}\n",
       " 2 & -1 & 0\\\\\n",
       " -1 & 2 & -1\\\\\n",
       " 0 & -1 & 2\\\\\n",
       "\\end{bmatrix}^{-1}\\,=\\,\\begin{bmatrix}\n",
       "\\frac{3}{4} &\\frac{1}{2} &\\frac{1}{4}\\\\[6pt]\n",
       "\\frac{1}{2} &\\frac{1}{1} &\\frac{1}{2}\\\\[6pt]\n",
       "\\frac{1}{4} &\\frac{1}{2} &\\frac{3}{4}\\\\[6pt]\n",
       "\\end{bmatrix}$"
      ],
      "text/plain": [
       "<IPython.core.display.Math object>"
      ]
     },
     "metadata": {},
     "output_type": "display_data"
    }
   ],
   "source": [
    "printalg(\"[ \", S2, \"^T ]^{-1} = \", np.matrix(S2).T, \"^{-1} = \", np.matrix(S2).T.I)\n"
   ]
  },
  {
   "cell_type": "markdown",
   "metadata": {},
   "source": [
    "\n",
    "4. Only n x n matrices can be symmetric."
   ]
  }
 ],
 "metadata": {
  "kernelspec": {
   "display_name": ".venv",
   "language": "python",
   "name": "python3"
  },
  "language_info": {
   "codemirror_mode": {
    "name": "ipython",
    "version": 3
   },
   "file_extension": ".py",
   "mimetype": "text/x-python",
   "name": "python",
   "nbconvert_exporter": "python",
   "pygments_lexer": "ipython3",
   "version": "3.12.4"
  }
 },
 "nbformat": 4,
 "nbformat_minor": 2
}
