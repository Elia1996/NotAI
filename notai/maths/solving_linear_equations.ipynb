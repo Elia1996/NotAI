{
 "cells": [
  {
   "cell_type": "markdown",
   "metadata": {},
   "source": [
    "# Solving Systems of Linear Equations\n",
    "There are many ways to solve linear equations, we will describe the terminology and the Gaussian elimination method.\n",
    "\n",
    "\n",
    "## The augmented matrix\n",
    "We start from a set of linear equation like:\n",
    "\n",
    "$$\n",
    "-3x_1 + 2x_2 + 1x_3 - 4x_4  = -2\n",
    "+2x_1 - 2x_2 + 1x_3 + 1x_4 = 1\n",
    "+1x_1 + 1x_2 - 1x_3 + 2x_4 = 3\n",
    "-1x_1 + 3x_2 + 1x_3 - 1x_4 = 2\n",
    "$$\n",
    "\n",
    "This equation can be converted to the matrix form:\n"
   ]
  },
  {
   "cell_type": "code",
   "execution_count": 1,
   "metadata": {
    "tags": [
     "hide-input"
    ]
   },
   "outputs": [
    {
     "name": "stderr",
     "output_type": "stream",
     "text": [
      "C:\\Users\\rango\\Desktop\\AI\\NotAI\\notai\\utils.py:60: SyntaxWarning: invalid escape sequence '\\c'\n",
      "  \"\"\"Prints a list of strings and matrices in LaTeX format. The matrices are printed in a bmatrix environment.\n"
     ]
    },
    {
     "data": {
      "text/latex": [
       "$\\displaystyle A\\cdot\\,x=b$"
      ],
      "text/plain": [
       "<IPython.core.display.Math object>"
      ]
     },
     "metadata": {},
     "output_type": "display_data"
    },
    {
     "data": {
      "text/latex": [
       "$\\displaystyle \\begin{bmatrix}\n",
       "-3 &2 &1 &-4\\\\\n",
       "2 &-2 &1 &1\\\\\n",
       "1 &1 &-1 &2\\\\\n",
       "-1 &3 &1 &-1\\\\\n",
       "\\end{bmatrix}\\cdot\\begin{bmatrix}\n",
       "x_1\\\\\n",
       "x_2\\\\\n",
       "x_3\\\\\n",
       "x_4\\\\\n",
       "\\end{bmatrix}=\\begin{bmatrix}\n",
       "-2\\\\\n",
       "1\\\\\n",
       "3\\\\\n",
       "2\\\\\n",
       "\\end{bmatrix}$"
      ],
      "text/plain": [
       "<IPython.core.display.Math object>"
      ]
     },
     "metadata": {},
     "output_type": "display_data"
    }
   ],
   "source": [
    "from notai.utils import printalg\n",
    "import numpy as np\n",
    "A = np.matrix([[-3, 2, 1, -4], [2, -2, 1, 1], [1, 1, -1, 2], [-1, 3, 1, -1]])\n",
    "X = np.matrix([[\"x_1\"], [\"x_2\"], [\"x_3\"], [\"x_4\"]])\n",
    "B = np.matrix([[-2], [1], [3], [2]])\n",
    "printalg(\"A\", \"@\", \" x\", \"=\", \"b\")\n",
    "printalg(A, \"@\", X, \"=\", B)"
   ]
  },
  {
   "cell_type": "markdown",
   "metadata": {},
   "source": [
    "The augmented matrix is the merge of the matrix of coefficients and the b vector:"
   ]
  },
  {
   "cell_type": "code",
   "execution_count": 2,
   "metadata": {},
   "outputs": [
    {
     "data": {
      "text/latex": [
       "$\\displaystyle \\begin{bmatrix}\n",
       "-3 &2 &1 &-4 & | -2\\\\\n",
       "2 &-2 &1 &1 & | 1\\\\\n",
       "1 &1 &-1 &2 & | 3\\\\\n",
       "-1 &3 &1 &-1 & | 2\\\\\n",
       "\\end{bmatrix}$"
      ],
      "text/plain": [
       "<IPython.core.display.Math object>"
      ]
     },
     "metadata": {},
     "output_type": "display_data"
    }
   ],
   "source": [
    "Aaug = np.concatenate((A, B), axis=1)\n",
    "printalg(\"aug\", Aaug)"
   ]
  }
 ],
 "metadata": {
  "kernelspec": {
   "display_name": ".venv",
   "language": "python",
   "name": "python3"
  },
  "language_info": {
   "codemirror_mode": {
    "name": "ipython",
    "version": 3
   },
   "file_extension": ".py",
   "mimetype": "text/x-python",
   "name": "python",
   "nbconvert_exporter": "python",
   "pygments_lexer": "ipython3",
   "version": "3.12.4"
  }
 },
 "nbformat": 4,
 "nbformat_minor": 2
}
