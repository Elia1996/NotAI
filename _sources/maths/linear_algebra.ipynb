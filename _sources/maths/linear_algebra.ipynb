{
 "cells": [
  {
   "cell_type": "markdown",
   "metadata": {},
   "source": [
    "# Linear albegra for AI\n",
    "There are many vectors definitions but here we will focus on $\\mathbb{R}^n$ (tuple of n real number), this is an example:\n",
    "$$\n",
    "\\textbf{a} = \\begin{bmatrix}1\\cr2\\cr3\\cr4\\end{bmatrix} \\in \\mathbb{R}^4\n",
    "$$\n",
    "\n",
    "This means that the vector $\\textbf{a}$ composed by four real number belongs to $\\mathbb{R}^4$.\n",
    "\n",
    "## Liner Equation\n",
    "Linear equation came from real world problem:\n",
    "> A company has to produce $N_1 ... N_n$ products, each product needs the resources $R_1 ... R_m$.\n",
    ">\n",
    "> Each resources is limited to $b_j$ so $R_1 ... R_m$ resources are limited to $b_1 ... b_m$ units.\n",
    ">\n",
    "> Find the optimized number of products $x_1 ... x_n$ which can be produced having maximum $b_1 ... b_m$ resources.\n",
    ">\n",
    "> Use $a_{ij}$ as the number of resource $R_j$ used by the product $N_i$.\n",
    "\n",
    "This problem can be approched finding the number of the same resource $b_1$ used by the $N_1 ... N_n$  products:\n",
    "\n",
    "$$\n",
    "x_1 a_{11} + x_2 a_{21} + ... + x_n a_{n1}  = b_1\\ (Number\\ of\\ available\\ R_1\\ resources)\\\\\n",
    "x_1 a_{12} + x_2 a_{22} + ... + x_n a_{n2}  = b_2\\\\\n",
    "...\\\\\n",
    "x_1 a_{1m} + x_2 a_{2m} + ... + x_n a_{nm}  = b_m\n",
    "$$\n",
    "\n",
    "We can group the $x_1 ... x_n$ and write the above equations as:\n",
    "\n",
    "$$\n",
    "\\begin{bmatrix}a_{11}  \\cr a_{12}  \\cr ...  \\cr a_{1m} \\end{bmatrix} x_1 + \\begin{bmatrix}a_{21}  \\cr a_{22}  \\cr ...  \\cr a_{2m} \\end{bmatrix} x_2 + ... + \\begin{bmatrix}a_{n1}  \\cr a_{n2}  \\cr ...  \\cr a_{nm} \\end{bmatrix} x_n = \\begin{bmatrix}b_1  \\cr b_2  \\cr ...  \\cr b_m \\end{bmatrix}\n",
    "$$\n",
    "\n",
    "Grouping also the $a_{ij}$ in a matrix and the $x_i$ in a vector we have:\n",
    "\n",
    "$$\n",
    "\\begin{bmatrix}a_{11} & a_{21} & ... & a_{n1}\\cr a_{12} & a_{22} & ... & a_{n2}\\cr ... & ... & ... & ...\\cr a_{1m} & a_{2m} & ... & a_{nm}\\end{bmatrix} \\begin{bmatrix}x_1\\cr x_2\\cr ...\\cr x_n\\end{bmatrix} = \\begin{bmatrix}b_1\\cr b_2\\cr ...\\cr b_m\\end{bmatrix}\n",
    "$$\n"
   ]
  },
  {
   "cell_type": "markdown",
   "metadata": {},
   "source": [
    "### Matrices property\n",
    "In the above equation we have used the matrix notation, here we will see some properties of matrices.\n",
    "\n",
    "#### General properties\n",
    "1. $\\textbf{A} \\in \\mathbb{R}^{row\\ num\\ \\times\\ col\\ num}$ is the general form of a matrix, the exponent define the dimension so $A \\in \\mathbb{R}^{m \\times n}$ is composed by $m$ rows and $n$ columns.\n",
    "2. $\\textbf{A} \\in \\mathbb{R}^{m \\times n}$ can be equivalently written as $\\textbf{a} \\in \\mathbb{R}^{mn}$, this is called the vectorization of the matrix and it is done by stacking the columns of the matrix.\n",
    "\n",
    "#### Operations\n",
    "\n",
    "##### Sum is commutative\n",
    "$\\textbf{A} + \\textbf{B} = \\textbf{B} + \\textbf{A}$, the sum of two matrices is commutative. \n"
   ]
  },
  {
   "cell_type": "code",
   "execution_count": 1,
   "metadata": {
    "tags": [
     "hide-input"
    ]
   },
   "outputs": [
    {
     "name": "stdout",
     "output_type": "stream",
     "text": [
      "Matrix 1:\n",
      "[[1 2]\n",
      " [3 1]]\n",
      "Matrix 2:\n",
      "[[ 3  0]\n",
      " [-1  2]]\n",
      "Matrix 1 + Matrix 2:\n",
      "[[4 2]\n",
      " [2 3]]\n"
     ]
    }
   ],
   "source": [
    "import numpy as np\n",
    "\n",
    "mat1 = np.array([[1, 2], [3, 1]])\n",
    "mat2 = np.array([[3, 0], [-1, 2]])\n",
    "print(f\"Matrix 1:\\n{mat1}\")\n",
    "print(f\"Matrix 2:\\n{mat2}\")\n",
    "print(f\"Matrix 1 + Matrix 2:\\n{mat1 + mat2}\")"
   ]
  },
  {
   "cell_type": "markdown",
   "metadata": {},
   "source": [
    "The same result is obtained by changing the order of the matrices."
   ]
  },
  {
   "cell_type": "code",
   "execution_count": 2,
   "metadata": {
    "tags": [
     "hide-input"
    ]
   },
   "outputs": [
    {
     "name": "stdout",
     "output_type": "stream",
     "text": [
      "Matrix 2 + Matrix 1:\n",
      "[[4 2]\n",
      " [2 3]]\n"
     ]
    }
   ],
   "source": [
    "print(f\"Matrix 2 + Matrix 1:\\n{mat2 + mat1}\")"
   ]
  },
  {
   "cell_type": "markdown",
   "metadata": {},
   "source": [
    "2. $A \\cdot \\textbf{B} \\neq \\textbf{B} \\cdot \\textbf{A}$, the product of two matrices is not commutative, indeed:"
   ]
  },
  {
   "cell_type": "code",
   "execution_count": 3,
   "metadata": {
    "tags": [
     "hide-input"
    ]
   },
   "outputs": [
    {
     "name": "stdout",
     "output_type": "stream",
     "text": [
      "[[1 4]\n",
      " [8 2]]\n"
     ]
    }
   ],
   "source": [
    "print(mat1 @ mat2)"
   ]
  },
  {
   "cell_type": "code",
   "execution_count": 14,
   "metadata": {
    "tags": [
     "hide-input"
    ]
   },
   "outputs": [
    {
     "data": {
      "text/html": [
       "<pre style=\"white-space:pre;overflow-x:auto;line-height:normal;font-family:Menlo,'DejaVu Sans Mono',consolas,'Courier New',monospace\"><span style=\"font-weight: bold\">[[</span><span style=\"color: #008080; text-decoration-color: #008080; font-weight: bold\">3</span> <span style=\"color: #008080; text-decoration-color: #008080; font-weight: bold\">6</span><span style=\"font-weight: bold\">]</span>\n",
       " <span style=\"font-weight: bold\">[</span><span style=\"color: #008080; text-decoration-color: #008080; font-weight: bold\">5</span> <span style=\"color: #008080; text-decoration-color: #008080; font-weight: bold\">0</span><span style=\"font-weight: bold\">]]</span>\n",
       "</pre>\n"
      ],
      "text/plain": [
       "\u001b[1m[\u001b[0m\u001b[1m[\u001b[0m\u001b[1;36m3\u001b[0m \u001b[1;36m6\u001b[0m\u001b[1m]\u001b[0m\n",
       " \u001b[1m[\u001b[0m\u001b[1;36m5\u001b[0m \u001b[1;36m0\u001b[0m\u001b[1m]\u001b[0m\u001b[1m]\u001b[0m\n"
      ]
     },
     "metadata": {},
     "output_type": "display_data"
    }
   ],
   "source": [
    "print(mat2 @ mat1)"
   ]
  },
  {
   "cell_type": "markdown",
   "metadata": {},
   "source": [
    "##### Product dimension\n",
    "The product of a matrix $\\textbf{A} \\in \\mathbb{R}^{m \\times n}$ with another matrix $\\textbf{B} \\in \\mathbb{R}^{n \\times p}$ is a matrix $\\textbf{C} \\in \\mathbb{R}^{m \\times p}$. As you can see the result matrix has the number of rows of the first matrix and the number of columns of the second matrix.\n",
    "\n",
    "$$\\underbrace{\\textbf{A}}_{\\textbf{m} \\times n} \\cdot \\underbrace{\\textbf{B}}_{n \\times \\textbf{p}} = \\underbrace{\\textbf{C}}_{\\textbf{m} \\times \\textbf{p}}$$\n",
    "\n",
    "Only \"neighboring\" matrices can be multiplied, so $\\textbf{A} \\in \\mathbb{R}^{m \\times n}$ can be multiplied by $\\textbf{B} \\in \\mathbb{R}^{n \\times p}$ but not by $\\textbf{C} \\in \\mathbb{R}^{p \\times q}$.\n",
    "\n",
    "##### Element-wise multiplication\n",
    "Matrix multiplication is not a element-wise multiplication, so $c_{ij} = \\sum_{k=1}^{n} a_{ik} b_{kj}$ but not $c_{ij} = a_{ij} b_{ij}$.\n",
    "\n",
    "#### Mixed properties:\n",
    "\n",
    "##### Associative property\n",
    "$(A \\cdot B) \\cdot C = A \\cdot (B \\cdot C)\\ \\ \\ \\  \\forall A \\in \\mathbb{R}^{m \\times n}, B \\in \\mathbb{R}^{n \\times p}, C \\in \\mathbb{R}^{p \\times q}$\n",
    "\n",
    "##### Distributive property\n",
    "$A \\cdot (B + C) = A \\cdot B + A \\cdot C\\quad\\forall A \\in \\mathbb{R}^{m \\times n}, B \\in \\mathbb{R}^{n \\times p}, C \\in \\mathbb{R}^{n \\times p}$\n",
    "\n",
    "#### Identity matrix:\n",
    "1. The identity matrix $\\textbf{I}$ is a square matrix with ones in the diagonal and zeros elsewhere.\n",
    "2. The identity matrix is the neutral element of the matrix multiplication, so $\\textbf{A} \\cdot \\textbf{I} = \\textbf{A}$.\n",
    "3. The identity matrix is the neutral element of the matrix sum, so $\\textbf{A} + \\textbf{I} = \\textbf{A}$.\n",
    "\n",
    "#### Inverse matrix:\n",
    "The inverse of a matrix $\\textbf{A}$ is denoted as $\\textbf{A}^{-1}$ and it is defined as the matrix that multiplied by $\\textbf{A}$ gives the identity matrix $\\textbf{I}$.\n",
    "\n",
    "The adjugate matrix of a matrix is the matrix obtained by replacing each element with its"
   ]
  }
 ],
 "metadata": {
  "kernelspec": {
   "display_name": ".venv",
   "language": "python",
   "name": "python3"
  },
  "language_info": {
   "codemirror_mode": {
    "name": "ipython",
    "version": 3
   },
   "file_extension": ".py",
   "mimetype": "text/x-python",
   "name": "python",
   "nbconvert_exporter": "python",
   "pygments_lexer": "ipython3",
   "version": "3.12.4"
  }
 },
 "nbformat": 4,
 "nbformat_minor": 2
}
